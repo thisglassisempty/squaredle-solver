{
 "cells": [
  {
   "cell_type": "markdown",
   "metadata": {},
   "source": [
    "# Squaredle solver\n",
    "Author: Aaron Patrick Monte (06/02/2023)"
   ]
  },
  {
   "cell_type": "code",
   "execution_count": 10,
   "metadata": {},
   "outputs": [],
   "source": [
    "import twl\n",
    "import networkx as nx\n",
    "import math\n",
    "from tqdm.notebook import tqdm\n",
    "from IPython.core.magic import register_cell_magic"
   ]
  },
  {
   "cell_type": "code",
   "execution_count": 11,
   "metadata": {},
   "outputs": [],
   "source": [
    "@register_cell_magic\n",
    "def skip(line, cell):\n",
    "    return"
   ]
  },
  {
   "cell_type": "markdown",
   "metadata": {},
   "source": [
    "Each letter in the letters list can be connected horizontally, vertically, or diagonally in the 2D list.\n",
    "Missing letters can be replaced by any non-alphabetical character.\n",
    "\n",
    "Format is as follows: String 'asttaifnc' represents the board...\n",
    "```\n",
    "a s t\n",
    "t a i\n",
    "f n c\n",
    "```"
   ]
  },
  {
   "cell_type": "code",
   "execution_count": 5,
   "metadata": {},
   "outputs": [],
   "source": [
    "letters = '?st?ai?nc'\n",
    "length = int(math.sqrt(len(letters)))\n"
   ]
  },
  {
   "cell_type": "code",
   "execution_count": 6,
   "metadata": {},
   "outputs": [
    {
     "name": "stdout",
     "output_type": "stream",
     "text": [
      "? s t \n",
      "? a i \n",
      "? n c \n"
     ]
    }
   ],
   "source": [
    "# Model a ixj board where each cell contains a letter as a directed graph\n",
    "# where each cell is connected to its 8 neighbors (if they exist)\n",
    "G = nx.DiGraph()\n",
    "\n",
    "# Create nodes with letters\n",
    "for i in range(length):\n",
    "    for j in range(length):\n",
    "        G.add_node((i, j), letter=letters[i*length+j])\n",
    "\n",
    "# Create edges to connect each cell to its 8 neighbors\n",
    "for i in range(length):\n",
    "    for j in range(length):\n",
    "        for x in range(i-1, i+2):\n",
    "            for y in range(j-1, j+2):\n",
    "                if (x, y) in G.nodes and (x, y) != (i, j):\n",
    "                    G.add_edge((i, j), (x, y))\n",
    "\n",
    "# Print all the letters in the board\n",
    "for i in range(length):\n",
    "    for j in range(length):\n",
    "        print(G.nodes[(i, j)]['letter'], end=' ')\n",
    "    print()"
   ]
  },
  {
   "cell_type": "markdown",
   "metadata": {},
   "source": [
    "## Brute-force approach"
   ]
  },
  {
   "cell_type": "code",
   "execution_count": 7,
   "metadata": {},
   "outputs": [
    {
     "name": "stderr",
     "output_type": "stream",
     "text": [
      "UsageError: Cell magic `%%skip` not found.\n"
     ]
    }
   ],
   "source": [
    "%%skip\n",
    "# Print all words for node (0, 0). That is, find all connected combinations of nodes where each node cannot be visited more than once\n",
    "words = []\n",
    "combinations = {}\n",
    "def find_words_brute_force(G, node, visited, word):\n",
    "    visited[node] = True\n",
    "    word += G.nodes[node]['letter']\n",
    "    if len(word) >= 4 and twl.check(word) and word not in words:\n",
    "        words.append(word)\n",
    "        # Avoid iterating over G.nodes; use visited directly\n",
    "        combinations[word] = [n for n, is_visited in visited.items() if is_visited]\n",
    "    for neighbor in G.neighbors(node):\n",
    "        if not visited[neighbor]:\n",
    "            find_words_brute_force(G, neighbor, visited, word)\n",
    "    visited[node] = False"
   ]
  },
  {
   "cell_type": "code",
   "execution_count": 5,
   "metadata": {},
   "outputs": [],
   "source": [
    "%%skip\n",
    "# Find all words for each node\n",
    "visited = {node: False for node in G.nodes}\n",
    "for node in tqdm(G.nodes):\n",
    "    find_words_brute_force(G, node, visited, '')\n"
   ]
  },
  {
   "cell_type": "markdown",
   "metadata": {},
   "source": [
    "## Informed search"
   ]
  },
  {
   "cell_type": "code",
   "execution_count": 6,
   "metadata": {},
   "outputs": [],
   "source": [
    "# Informed search: Cross reference with the twl dictionary. If a node has an adjacent node with a letter that is not a prefix of any word in the dictionary, then it is not possible to form a word with that prefix\n",
    "# This is a heuristic to prune the search space\n",
    "words = []\n",
    "combinations = {}\n",
    "def find_words_informed_search(G, node, visited, word):\n",
    "    visited[node] = True\n",
    "    word += G.nodes[node]['letter']\n",
    "    if len(word) >= 4 and twl.check(word) and word not in words:\n",
    "        words.append(word)\n",
    "        # Avoid iterating over G.nodes; use visited directly\n",
    "        combinations[word] = [n for n, is_visited in visited.items() if is_visited]\n",
    "    for neighbor in G.neighbors(node):\n",
    "        if not visited[neighbor]:\n",
    "            # Check if the neighbor has a letter that is not a prefix of any word in the dictionary\n",
    "            neighbor_letter = G.nodes[neighbor]['letter']\n",
    "            prefix = word + neighbor_letter\n",
    "            if not any(twl.children(prefix)):\n",
    "                continue\n",
    "            find_words_informed_search(G, neighbor, visited, word)\n",
    "    visited[node] = False"
   ]
  },
  {
   "cell_type": "code",
   "execution_count": 7,
   "metadata": {},
   "outputs": [
    {
     "data": {
      "application/vnd.jupyter.widget-view+json": {
       "model_id": "fd193c302cfa4b5d97a489787352f8cd",
       "version_major": 2,
       "version_minor": 0
      },
      "text/plain": [
       "  0%|          | 0/9 [00:00<?, ?it/s]"
      ]
     },
     "metadata": {},
     "output_type": "display_data"
    }
   ],
   "source": [
    "# Find all words for each node\n",
    "visited = {node: False for node in G.nodes}\n",
    "for node in tqdm(G.nodes):\n",
    "    find_words_informed_search(G, node, visited, '')"
   ]
  },
  {
   "cell_type": "code",
   "execution_count": 8,
   "metadata": {},
   "outputs": [
    {
     "name": "stdout",
     "output_type": "stream",
     "text": [
      "Words of length 4:\n",
      "aits [(0, 1), (0, 2), (1, 1), (1, 2)]\n",
      "anis [(0, 1), (1, 1), (1, 2), (2, 1)]\n",
      "cain [(1, 1), (1, 2), (2, 1), (2, 2)]\n",
      "cast [(0, 1), (0, 2), (1, 1), (2, 2)]\n",
      "cats [(0, 1), (0, 2), (1, 1), (2, 2)]\n",
      "cist [(0, 1), (0, 2), (1, 2), (2, 2)]\n",
      "nits [(0, 1), (0, 2), (1, 2), (2, 1)]\n",
      "sain [(0, 1), (1, 1), (1, 2), (2, 1)]\n",
      "sati [(0, 1), (0, 2), (1, 1), (1, 2)]\n",
      "tain [(0, 2), (1, 1), (1, 2), (2, 1)]\n",
      "Words of length 5:\n",
      "satin [(0, 1), (0, 2), (1, 1), (1, 2), (2, 1)]\n",
      "stain [(0, 1), (0, 2), (1, 1), (1, 2), (2, 1)]\n",
      "Words of length 6:\n",
      "nastic [(0, 1), (0, 2), (1, 1), (1, 2), (2, 1), (2, 2)]\n"
     ]
    }
   ],
   "source": [
    "# Print all words and their combinations, sorted by length\n",
    "for i in range(4, 17):\n",
    "    # if words of length i do not exist, skip\n",
    "    if not any([len(w) == i for w in words]):\n",
    "        continue\n",
    "    print(f'Words of length {i}:')\n",
    "    for word in sorted([w for w in words if len(w) == i]):\n",
    "        print(word, combinations[word])"
   ]
  },
  {
   "cell_type": "code",
   "execution_count": null,
   "metadata": {},
   "outputs": [
    {
     "name": "stdout",
     "output_type": "stream",
     "text": [
      "No words found\n"
     ]
    }
   ],
   "source": [
    "prefix = input('Enter a prefix: ')\n",
    "length = int(input('Enter the length of the word: '))\n",
    "\n",
    "if not any([len(w) == length and w.startswith(prefix) for w in words]):\n",
    "    print('No words found')\n",
    "elif len(prefix) < length:\n",
    "    print(f'Words of length {length} starting with prefix {prefix} do not exist')\n",
    "else:\n",
    "    print(f'Words of length {length} starting with prefix {prefix}:')\n",
    "    for word in sorted([w for w in words if w.startswith(prefix) and len(w) == length]):\n",
    "        print(word, combinations[word])"
   ]
  }
 ],
 "metadata": {
  "kernelspec": {
   "display_name": "base",
   "language": "python",
   "name": "python3"
  },
  "language_info": {
   "codemirror_mode": {
    "name": "ipython",
    "version": 3
   },
   "file_extension": ".py",
   "mimetype": "text/x-python",
   "name": "python",
   "nbconvert_exporter": "python",
   "pygments_lexer": "ipython3",
   "version": "3.11.7"
  }
 },
 "nbformat": 4,
 "nbformat_minor": 2
}
